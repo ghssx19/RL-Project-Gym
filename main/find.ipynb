{
 "cells": [
  {
   "cell_type": "code",
   "execution_count": 1,
   "metadata": {},
   "outputs": [
    {
     "name": "stdout",
     "output_type": "stream",
     "text": [
      "PPO Source File: /home/souren/miniconda3/envs/rlgym/lib/python3.10/site-packages/stable_baselines3/ppo/ppo.py\n"
     ]
    }
   ],
   "source": [
    "import stable_baselines3\n",
    "from stable_baselines3 import PPO\n",
    "import inspect\n",
    "\n",
    "# Get the source file for PPO\n",
    "ppo_file = inspect.getfile(PPO)\n",
    "print(f\"PPO Source File: {ppo_file}\")\n"
   ]
  },
  {
   "cell_type": "code",
   "execution_count": null,
   "metadata": {},
   "outputs": [],
   "source": [
    "from datetime import datetime\n",
    "import time\n",
    "import random\n",
    "random.seed(time.time_ns())\n",
    "\n",
    "fuel_consumption_rate = random.uniform(0.009, 0.2)  # Adjust as needed\n",
    "print(f\"the fuel consumption rate is{fuel_consumption_rate}\")\n",
    "# (0.09)  # Adjust as needed\n",
    "tire_wear_rate = random.uniform(0.009, 0.2)\n",
    "print(f\"the tire wear level is{tire_wear_rate}\")  # Adjust as needed\n"
   ]
  }
 ],
 "metadata": {
  "kernelspec": {
   "display_name": "rlgym",
   "language": "python",
   "name": "python3"
  },
  "language_info": {
   "codemirror_mode": {
    "name": "ipython",
    "version": 3
   },
   "file_extension": ".py",
   "mimetype": "text/x-python",
   "name": "python",
   "nbconvert_exporter": "python",
   "pygments_lexer": "ipython3",
   "version": "3.10.15"
  }
 },
 "nbformat": 4,
 "nbformat_minor": 2
}
