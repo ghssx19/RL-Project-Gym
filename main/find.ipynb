{
 "cells": [
  {
   "cell_type": "code",
   "execution_count": null,
   "metadata": {
    "vscode": {
     "languageId": "plaintext"
    }
   },
   "outputs": [],
   "source": [
    "import stable_baselines3\n",
    "from stable_baselines3 import PPO\n",
    "import inspect\n",
    "\n",
    "# Get the source file for PPO\n",
    "ppo_file = inspect.getfile(PPO)\n",
    "print(f\"PPO Source File: {ppo_file}\")\n"
   ]
  }
 ],
 "metadata": {
  "language_info": {
   "name": "python"
  }
 },
 "nbformat": 4,
 "nbformat_minor": 2
}
