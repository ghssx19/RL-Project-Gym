{
 "cells": [
  {
   "cell_type": "code",
   "execution_count": null,
   "metadata": {},
   "outputs": [
    {
     "name": "stdout",
     "output_type": "stream",
     "text": [
      "PPO Source File: /home/souren/miniconda3/envs/rlgym/lib/python3.10/site-packages/stable_baselines3/ppo/ppo.py\n"
     ]
    }
   ],
   "source": [
    "import stable_baselines3\n",
    "from stable_baselines3 import PPO\n",
    "import inspect\n",
    "\n",
    "ppo_file = inspect.getfile(PPO)\n",
    "print(f\"PPO Source File: {ppo_file}\")\n"
   ]
  },
  {
   "cell_type": "code",
   "execution_count": null,
   "metadata": {},
   "outputs": [
    {
     "name": "stdout",
     "output_type": "stream",
     "text": [
      "the fuel consumption rate is0.18503422006373735\n",
      "the tire wear level is0.17401687347647116\n"
     ]
    }
   ],
   "source": [
    "from datetime import datetime\n",
    "import time\n",
    "import random\n",
    "random.seed(time.time_ns())\n",
    "\n",
    "fuel_consumption_rate = random.uniform(0.009, 0.2)  \n",
    "print(f\"the fuel consumption rate is{fuel_consumption_rate}\")\n",
    "tire_wear_rate = random.uniform(0.009, 0.2)\n",
    "print(f\"the tire wear level is{tire_wear_rate}\")  \n"
   ]
  }
 ],
 "metadata": {
  "kernelspec": {
   "display_name": "rlgym",
   "language": "python",
   "name": "python3"
  },
  "language_info": {
   "codemirror_mode": {
    "name": "ipython",
    "version": 3
   },
   "file_extension": ".py",
   "mimetype": "text/x-python",
   "name": "python",
   "nbconvert_exporter": "python",
   "pygments_lexer": "ipython3",
   "version": "3.10.15"
  }
 },
 "nbformat": 4,
 "nbformat_minor": 2
}
